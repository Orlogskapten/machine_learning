{
 "cells": [
  {
   "cell_type": "markdown",
   "metadata": {},
   "source": [
    "# Batch Gradient Descent "
   ]
  },
  {
   "cell_type": "markdown",
   "metadata": {},
   "source": [
    "La Descente de Gradient Batch travaille sur l'ensemble de données : "
   ]
  },
  {
   "cell_type": "code",
   "execution_count": 2,
   "metadata": {},
   "outputs": [],
   "source": [
    "import numpy as np\n",
    "import matplotlib.pyplot as plt\n",
    "from sklearn.datasets import make_regression\n",
    "\n",
    "%matplotlib inline\n",
    "plt.style.use(['ggplot'])"
   ]
  },
  {
   "cell_type": "markdown",
   "metadata": {},
   "source": [
    "Création d'un jeu de données"
   ]
  },
  {
   "cell_type": "code",
   "execution_count": 3,
   "metadata": {
    "scrolled": false
   },
   "outputs": [
    {
     "data": {
      "image/png": "[encoded data removed]",
      "text/plain": [
       "<Figure size 432x288 with 1 Axes>"
      ]
     },
     "metadata": {
      "needs_background": "light"
     },
     "output_type": "display_data"
    }
   ],
   "source": [
    "x,y = make_regression(n_samples=50, n_features=1, noise=30, random_state=100)\n",
    "y = y.reshape(y.shape[0],1)\n",
    "plt.plot(x,y,'.',c='green');"
   ]
  },
  {
   "cell_type": "markdown",
   "metadata": {},
   "source": [
    "Ajout d'un vecteur de biais pour le pente de la régression : $[1]$"
   ]
  },
  {
   "cell_type": "code",
   "execution_count": 4,
   "metadata": {},
   "outputs": [],
   "source": [
    "X = np.c_[x, np.ones((50,1))] # permet de concaténer"
   ]
  },
  {
   "cell_type": "markdown",
   "metadata": {},
   "source": [
    "**Rappel** – Formule de calcul par les MCO :\n",
    "\n",
    "$$ \\beta_{MCO} = (X'X)X'Y$$"
   ]
  },
  {
   "cell_type": "code",
   "execution_count": 5,
   "metadata": {},
   "outputs": [],
   "source": [
    "def mco(X,y):\n",
    "    return np.linalg.inv(X.T.dot(X)).dot(X.T).dot(y)"
   ]
  },
  {
   "cell_type": "code",
   "execution_count": 6,
   "metadata": {},
   "outputs": [],
   "source": [
    "beta = mco(X,y)\n",
    "y_predict = X.dot(beta)"
   ]
  },
  {
   "cell_type": "code",
   "execution_count": 7,
   "metadata": {
    "scrolled": true
   },
   "outputs": [
    {
     "data": {
      "image/png": "[encoded data removed]",
      "text/plain": [
       "<Figure size 432x288 with 1 Axes>"
      ]
     },
     "metadata": {
      "needs_background": "light"
     },
     "output_type": "display_data"
    }
   ],
   "source": [
    "plt.plot(x,y_predict,'r-')\n",
    "plt.plot(x,y,'b.');"
   ]
  },
  {
   "cell_type": "markdown",
   "metadata": {},
   "source": [
    "Calcul de l'erreur de prédiction : "
   ]
  },
  {
   "cell_type": "code",
   "execution_count": 19,
   "metadata": {},
   "outputs": [],
   "source": [
    "def loss(X,y,beta):\n",
    "    n = len(y)\n",
    "    predictions = X.dot(beta)\n",
    "    cost = (1/(n)) * np.sum((predictions-y)**2)\n",
    "    \n",
    "    return cost"
   ]
  },
  {
   "cell_type": "code",
   "execution_count": 20,
   "metadata": {
    "scrolled": true
   },
   "outputs": [
    {
     "name": "stdout",
     "output_type": "stream",
     "text": [
      "L'erreur du modèle est de : 1185.0\n"
     ]
    }
   ],
   "source": [
    "print(\"L'erreur du modèle est de : {}\" .format(round(loss(X,y,beta)),4))"
   ]
  },
  {
   "cell_type": "markdown",
   "metadata": {},
   "source": [
    "Pour calculer la descente de Gradient : \n",
    "\n",
    "\n"
   ]
  },
  {
   "cell_type": "markdown",
   "metadata": {},
   "source": [
    " \n",
    "$$\\beta_{t+1} = \\beta_t - \\eta \\frac{\\partial Loss }{\\partial \\beta}$$\n"
   ]
  },
  {
   "cell_type": "markdown",
   "metadata": {},
   "source": [
    "Ou le Gradient se calcule par :"
   ]
  },
  {
   "cell_type": "markdown",
   "metadata": {},
   "source": [
    "$$\\frac{\\partial Loss}{\\partial \\beta} = \\frac{1}n  \\hspace{0.1cm} X^T (X\\beta - y) $$"
   ]
  },
  {
   "cell_type": "code",
   "execution_count": 13,
   "metadata": {},
   "outputs": [],
   "source": [
    "def gradient_descent(X,y,beta, learning_rate=0.01, n_iter=100):\n",
    "    '''\n",
    "    X = Matrice de données avec colonne de biais\n",
    "    y = Vecteur des valeurs à prédire\n",
    "    beta = Vecteur de beta avec : np.random.randn(j,1)\n",
    "    learning_rate  = taux d'apprentissage pour fixer la vitesse de convergence\n",
    "    iterations = nombre d'iterations\n",
    "    \n",
    "    Retourne les coefficients beta estimés, un tableau de la loss et des coefficients\n",
    "    à chaque itération.\n",
    "    '''\n",
    "\n",
    "    n = len(y)\n",
    "    loss_ = []\n",
    "    \n",
    "    for i in range(n_iter):\n",
    "        \n",
    "        # y prédit\n",
    "        prediction = X.dot(beta)\n",
    "        \n",
    "        # erreur quadratique du modèle\n",
    "        erreur = (y - prediction)**2\n",
    "        \n",
    "        # Mean Square Error\n",
    "        loss = erreur.mean()\n",
    "        \n",
    "        # Calcul de la dérivée du Gradient\n",
    "        gradient = (1/n) * X.T.dot(prediction - y)\n",
    "        \n",
    "        # Mise à jour des paramètres\n",
    "        beta = beta - learning_rate * gradient\n",
    "        \n",
    "        loss_.append(loss)\n",
    "    \n",
    "    return beta, loss_"
   ]
  },
  {
   "cell_type": "markdown",
   "metadata": {},
   "source": [
    "Initialisation de la descente de Gradient : "
   ]
  },
  {
   "cell_type": "code",
   "execution_count": 14,
   "metadata": {
    "scrolled": true
   },
   "outputs": [
    {
     "name": "stdout",
     "output_type": "stream",
     "text": [
      "[[ 9]\n",
      " [16]]\n"
     ]
    }
   ],
   "source": [
    "np.random.seed(200)\n",
    "\n",
    "beta_init = np.random.randint(20, size=(2,1))\n",
    "print(beta_init)"
   ]
  },
  {
   "cell_type": "code",
   "execution_count": 15,
   "metadata": {},
   "outputs": [],
   "source": [
    "beta_dg, cout_dg = gradient_descent(X, y, \n",
    "                                    beta_init, learning_rate=0.1)"
   ]
  },
  {
   "cell_type": "markdown",
   "metadata": {},
   "source": [
    "Paramètre estimée par la descente de gradient : "
   ]
  },
  {
   "cell_type": "code",
   "execution_count": 21,
   "metadata": {
    "scrolled": false
   },
   "outputs": [
    {
     "data": {
      "text/plain": [
       "array([[40.72562102],\n",
       "       [-3.27333179]])"
      ]
     },
     "execution_count": 21,
     "metadata": {},
     "output_type": "execute_result"
    }
   ],
   "source": [
    "beta_dg"
   ]
  },
  {
   "cell_type": "markdown",
   "metadata": {},
   "source": [
    "Paramètre estimée des MCO : "
   ]
  },
  {
   "cell_type": "code",
   "execution_count": 17,
   "metadata": {},
   "outputs": [
    {
     "data": {
      "text/plain": [
       "array([[40.7282697 ],\n",
       "       [-3.27314989]])"
      ]
     },
     "execution_count": 17,
     "metadata": {},
     "output_type": "execute_result"
    }
   ],
   "source": [
    "beta_mco = mco(X,y)\n",
    "beta_mco"
   ]
  },
  {
   "cell_type": "markdown",
   "metadata": {},
   "source": [
    "Erreur du modèle selon les itérations : "
   ]
  },
  {
   "cell_type": "code",
   "execution_count": 18,
   "metadata": {
    "scrolled": true
   },
   "outputs": [
    {
     "data": {
      "image/png": "[encoded data removed]",
      "text/plain": [
       "<Figure size 432x288 with 1 Axes>"
      ]
     },
     "metadata": {
      "needs_background": "light"
     },
     "output_type": "display_data"
    }
   ],
   "source": [
    "plt.plot(cout_dg, 'r.');"
   ]
  },
  {
   "cell_type": "markdown",
   "metadata": {},
   "source": [
    "# Stochastic Gradient Descent "
   ]
  },
  {
   "cell_type": "markdown",
   "metadata": {},
   "source": [
    "Lors d'une Descente de gradient, **un lot** représente le **nombre total d'exemples utilisés pour calculer le gradient** à chaque itération. Pour la descente de Gradient \"Vanilla\" ou \"Batch\" le lot correspondait à l'intégralité de l'ensemble de données. Mais : \n",
    "\n",
    "-  Lorsque le lot est très important, la durée des calculs pour une simple itération peut être longue.\n",
    "- Un ensemble de données important contient généralement des données redondantes.\n",
    "\n",
    "La **Descente de Gradient Stochastique** (SGD) effectue une mise à jour des paramètres pour **chaque exemple d'entraînement** $x(i)$ et l'étiquette $y(i)$. Ainsi, elle n'utilise qu'un exemple à la fois (un lot dont la taille est 1) par itération. Si le nombre d'itérations est assez important, la SGD fonctionne, tout en générant beaucoup de bruit. \n",
    "\n",
    "*Le terme \"stochastique\" signifie que l'exemple constituant chaque lot est sélectionné de façon aléatoire.*\n"
   ]
  },
  {
   "cell_type": "markdown",
   "metadata": {},
   "source": [
    "La Descente de Gradient Stochastique peut se réécrire :"
   ]
  },
  {
   "cell_type": "markdown",
   "metadata": {},
   "source": [
    "$$ {\\begin{bmatrix}\\beta_{0,n+1}\\\\ \\beta_{1,n+1}\\end{bmatrix}} = {\\begin{bmatrix}\\beta_{0}\\\\ \\beta_{1}\\end{bmatrix}} - \\eta \\begin{bmatrix}2(\\beta_{0}+\\beta_{1}x_{i} - y_{i}) \\\\\n",
    "2x_i(\\beta_{0}+\\beta_{1}x_{i} - y_{i})\n",
    "\\end{bmatrix}$$"
   ]
  },
  {
   "cell_type": "markdown",
   "metadata": {},
   "source": [
    "Ou $i$ est une observation aléatoire."
   ]
  },
  {
   "cell_type": "code",
   "execution_count": 22,
   "metadata": {},
   "outputs": [],
   "source": [
    "def stochastic_gradient_descent(X,y,beta,learning_rate=0.01,iterations=10):\n",
    "    '''\n",
    "    X = Matrice de données avec colonne de biais\n",
    "    y = Vecteur des valeurs à prédire\n",
    "    beta = Vecteur de beta avec : np.random.randn(j,1)\n",
    "    learning_rate  = taux d'apprentissage pour fixer la vitesse de convergence\n",
    "    iterations = nombre d'iterations\n",
    "    \n",
    "    Retourne les coefficients beta estimés, un tableau de la loss\n",
    "    à chaque itération.\n",
    "    '''\n",
    "    \n",
    "    n = len(y)\n",
    "    cost_history = np.zeros(iterations)\n",
    "    \n",
    "    for it in range(iterations):\n",
    "        \n",
    "        # Choix de l'observation aléatoire\n",
    "        rand_ind = np.random.randint(0,n)\n",
    "        X_i = X[rand_ind,:].reshape(1,X.shape[1])\n",
    "        y_i = y[rand_ind].reshape(1,1)\n",
    "\n",
    "         # Calcul de la prédiction de l'observation\n",
    "        prediction = np.dot(X_i,beta)\n",
    "        \n",
    "        # Mise à jour des paramètres\n",
    "        beta = beta - learning_rate * (X_i.T.dot((prediction - y_i)))\n",
    "        \n",
    "        cost_history[it] = loss(X, y, beta)\n",
    "        \n",
    "    return beta, cost_history"
   ]
  },
  {
   "cell_type": "markdown",
   "metadata": {},
   "source": [
    "Initalisation d'un vecteur aléatoire :"
   ]
  },
  {
   "cell_type": "code",
   "execution_count": 23,
   "metadata": {},
   "outputs": [],
   "source": [
    "beta_test = np.array([-100,-100]).reshape(2,1)"
   ]
  },
  {
   "cell_type": "code",
   "execution_count": 25,
   "metadata": {},
   "outputs": [
    {
     "name": "stdout",
     "output_type": "stream",
     "text": [
      "CPU times: user 2 µs, sys: 0 ns, total: 2 µs\n",
      "Wall time: 5.01 µs\n"
     ]
    }
   ],
   "source": [
    "beta_dg, cout_dg = gradient_descent(X, y, \n",
    "                                    beta_test, \n",
    "                                    learning_rate=0.1, n_iter=100)\n",
    "\n",
    "%time"
   ]
  },
  {
   "cell_type": "code",
   "execution_count": 42,
   "metadata": {},
   "outputs": [
    {
     "name": "stdout",
     "output_type": "stream",
     "text": [
      "CPU times: user 3 µs, sys: 0 ns, total: 3 µs\n",
      "Wall time: 6.2 µs\n"
     ]
    }
   ],
   "source": [
    "beta_sgd, cout_sgd = stochastic_gradient_descent(X,y, \n",
    "                                                 beta_test,\n",
    "                                                 learning_rate=0.1, iterations=100)\n",
    "\n",
    "%time"
   ]
  },
  {
   "cell_type": "markdown",
   "metadata": {},
   "source": [
    "Les paramètres estimés grâce à la **Descente de Gradient Stochastique** : "
   ]
  },
  {
   "cell_type": "code",
   "execution_count": 43,
   "metadata": {
    "scrolled": false
   },
   "outputs": [
    {
     "data": {
      "text/plain": [
       "array([[41.24498299],\n",
       "       [-5.82630382]])"
      ]
     },
     "execution_count": 43,
     "metadata": {},
     "output_type": "execute_result"
    }
   ],
   "source": [
    "beta_sgd"
   ]
  },
  {
   "cell_type": "markdown",
   "metadata": {},
   "source": [
    "Ils sont encore différents de la Descente de Gradient, car se trouve au voisinage du minimum local : "
   ]
  },
  {
   "cell_type": "code",
   "execution_count": 34,
   "metadata": {
    "scrolled": false
   },
   "outputs": [
    {
     "data": {
      "text/plain": [
       "array([[40.7282697 ],\n",
       "       [-3.27314989]])"
      ]
     },
     "execution_count": 34,
     "metadata": {},
     "output_type": "execute_result"
    }
   ],
   "source": [
    "beta_mco"
   ]
  },
  {
   "cell_type": "markdown",
   "metadata": {},
   "source": [
    "On peut voir que que la Descente de Gradient Stochastique se rapproche du minimum plus rapidement."
   ]
  },
  {
   "cell_type": "code",
   "execution_count": 44,
   "metadata": {
    "scrolled": true
   },
   "outputs": [
    {
     "data": {
      "image/png": "[encoded data removed]",
      "text/plain": [
       "<Figure size 432x288 with 1 Axes>"
      ]
     },
     "metadata": {
      "needs_background": "light"
     },
     "output_type": "display_data"
    }
   ],
   "source": [
    "plt.plot(cout_dg, 'b.', zorder=3, label='Gradient Descent');\n",
    "plt.plot(cout_sgd, 'g.', label='Stochastic Gradient Descent', \n",
    "         zorder=3)\n",
    "plt.legend();"
   ]
  },
  {
   "cell_type": "markdown",
   "metadata": {},
   "source": [
    "# Mini Batch Gradient Descent "
   ]
  },
  {
   "cell_type": "markdown",
   "metadata": {},
   "source": [
    "La descente de **Gradient par mini-lots** est un compromis entre l'itération en batch (lots entiers) et la Descente de Gradient Stochastique (1 observation à la fois).\n",
    "\n",
    "- Un mini-lot comprend généralement un petit nombre d'exemples sélectionnés aléatoirement (entre 16 et 50 généralement). \n",
    "\n",
    "Le **Mini Batch Gradient Descent** limite la quantité de bruit (diminue la variance des paramètres estimés) comparé à la Descente de Gradient Stochastique tout en restant plus efficace en termes de calcul que le traitement de lots entiers."
   ]
  },
  {
   "cell_type": "code",
   "execution_count": 45,
   "metadata": {},
   "outputs": [],
   "source": [
    "def choice_batch(X,y,len_batch=16):\n",
    "    '''\n",
    "    Permet de sélectionner aléatoirement n observation(s) aléatoire(s) \n",
    "    d'un jeu de données.\n",
    "    \n",
    "    Parameters : \n",
    "    ---------------\n",
    "    X = Matrice de données avec colonne de biais\n",
    "    y = Vecteur de valeur à prédire \n",
    "    len_batch = Taille du sous-échantillon \n",
    "    \n",
    "    \n",
    "    Return :\n",
    "    -------------\n",
    "    Retourne un tableau @len_batch du sous-échantillon de X et de y.\n",
    "    \n",
    "    \n",
    "    '''\n",
    "    x_sample = []\n",
    "    y_sample = []\n",
    "    \n",
    "    list_indice = np.random.randint(X.shape[0], size=(len_batch,1)).flatten()\n",
    "    \n",
    "    for i in list_indice:\n",
    "        x_sample.append(X[i])\n",
    "        y_sample.append(y[i])\n",
    "    \n",
    "    return np.array(x_sample), np.array(y_sample)"
   ]
  },
  {
   "cell_type": "code",
   "execution_count": 46,
   "metadata": {},
   "outputs": [],
   "source": [
    "def mini_batch_gradient_descent(X,y,beta,learning_rate=0.01,iterations=1000, batch=16):\n",
    "    '''\n",
    "    X = Matrice de données avec colonne de biais\n",
    "    y = Vecteur des valeurs à prédire\n",
    "    beta = Vecteur de beta initial avec : np.random.randn(j,1)\n",
    "    learning_rate  = taux d'apprentissage pour fixer la vitesse de convergence\n",
    "    iterations = nombre d'iterations\n",
    "    batch = taille de l'échantillon aléatoire utilisé\n",
    "    \n",
    "    Retourne les coefficients beta estimés, un tableau de la loss\n",
    "    à chaque itération.\n",
    "    '''\n",
    "    \n",
    "    n = len(y)\n",
    "    cost_history = np.zeros(iterations)\n",
    "    \n",
    "    for it in range(iterations):\n",
    "        \n",
    "        # Observations du batch aléatoire\n",
    "        \n",
    "        X_i, y_i = choice_batch(X,y,batch)\n",
    "        \n",
    "        # Calcul de la prédiction de l'observation\n",
    "        prediction = np.dot(X_i,beta)\n",
    "        \n",
    "        # Mise à jour des poids\n",
    "        beta = beta - learning_rate * (1/batch) * (X_i.T.dot((prediction - y_i)))\n",
    "        \n",
    "        cost_history[it] = loss(X,y,beta)\n",
    "        \n",
    "    return beta, cost_history"
   ]
  },
  {
   "cell_type": "markdown",
   "metadata": {},
   "source": [
    "On peut lancer une Descente de Gradient avec un mini batch de 8 observations : "
   ]
  },
  {
   "cell_type": "code",
   "execution_count": 47,
   "metadata": {
    "scrolled": true
   },
   "outputs": [
    {
     "name": "stdout",
     "output_type": "stream",
     "text": [
      "CPU times: user 3 µs, sys: 0 ns, total: 3 µs\n",
      "Wall time: 8.11 µs\n"
     ]
    }
   ],
   "source": [
    "beta_minibatch, cost_batch = mini_batch_gradient_descent(X,y, beta_test, \n",
    "                                                         learning_rate=0.1, iterations=100, batch=8)\n",
    "\n",
    "%time"
   ]
  },
  {
   "cell_type": "markdown",
   "metadata": {},
   "source": [
    "Les paramètres estimés sont encore différents de ceux des MCO, même après de nombreuses itérations et un pas plus faible."
   ]
  },
  {
   "cell_type": "code",
   "execution_count": 48,
   "metadata": {
    "scrolled": true
   },
   "outputs": [
    {
     "data": {
      "text/plain": [
       "array([[43.68528917],\n",
       "       [-8.4729835 ]])"
      ]
     },
     "execution_count": 48,
     "metadata": {},
     "output_type": "execute_result"
    }
   ],
   "source": [
    "beta_minibatch"
   ]
  },
  {
   "cell_type": "code",
   "execution_count": 49,
   "metadata": {},
   "outputs": [
    {
     "data": {
      "text/plain": [
       "array([[40.7282697 ],\n",
       "       [-3.27314989]])"
      ]
     },
     "execution_count": 49,
     "metadata": {},
     "output_type": "execute_result"
    }
   ],
   "source": [
    "beta_mco"
   ]
  },
  {
   "cell_type": "markdown",
   "metadata": {},
   "source": [
    "On peut afficher les courbes de Loss pour les 3 types de Descentes de Gradient et les droites estimés :"
   ]
  },
  {
   "cell_type": "code",
   "execution_count": 50,
   "metadata": {
    "scrolled": false
   },
   "outputs": [
    {
     "data": {
      "image/png": "[encoded data removed]",
      "text/plain": [
       "<Figure size 720x432 with 3 Axes>"
      ]
     },
     "metadata": {
      "needs_background": "light"
     },
     "output_type": "display_data"
    }
   ],
   "source": [
    "plt.figure(figsize=(10,6))\n",
    "plt.title(\"Comparaison des différentes Descente de Gradient\")\n",
    "\n",
    "plt.subplot(311)\n",
    "plt.plot(cout_dg, 'b', zorder= 3, label='Gradient Descent')\n",
    "plt.subplot(312)\n",
    "plt.plot(cout_sgd, 'g', label='Stochastic Gradient Descent')\n",
    "plt.subplot(313)\n",
    "plt.plot(cost_batch, 'r', label='Mini-Batch (16) Gradient Descent')\n",
    "plt.tight_layout()"
   ]
  },
  {
   "cell_type": "code",
   "execution_count": 51,
   "metadata": {},
   "outputs": [
    {
     "data": {
      "image/png": "[encoded data removed]",
      "text/plain": [
       "<Figure size 864x576 with 1 Axes>"
      ]
     },
     "metadata": {
      "needs_background": "light"
     },
     "output_type": "display_data"
    }
   ],
   "source": [
    "plt.figure(figsize=(12,8))\n",
    "plt.scatter(x,y, c='b')\n",
    "plt.plot(x, X.dot(beta_dg), label='Descente de Gradient')\n",
    "plt.plot(x, X.dot(beta_minibatch), label='Mini Batch')\n",
    "plt.plot(x,X.dot(beta_sgd), label='SGD',c='yellow')\n",
    "plt.plot(x,y_predict, label='MCO', lw=10, zorder=-3)\n",
    "plt.legend();"
   ]
  },
  {
   "cell_type": "markdown",
   "metadata": {},
   "source": [
    "Les Descentes de Gradient par Mini-batch et Stochastique ne garantissent pas forcément une bonne convergence de l'algorithme. Pour cela il existe différents algorithme d'optimistion de ces Descente de Gradient : "
   ]
  },
  {
   "cell_type": "markdown",
   "metadata": {},
   "source": [
    "---"
   ]
  },
  {
   "cell_type": "markdown",
   "metadata": {},
   "source": [
    "**Momentum** : Le momentum est une méthode qui permet d'accélérer la SGD dans la direction appropriée et d'amortir\n",
    "l'oscillation. Pour cela on crée un paramètre *vélocité* qui a pour but de *réduire l'oscillation*. \n",
    "\n",
    ">Le Momentum est généralement fixé à 0.9."
   ]
  },
  {
   "cell_type": "code",
   "execution_count": 52,
   "metadata": {},
   "outputs": [],
   "source": [
    "def sgd_momentum(X,y,beta,learning_rate=0.01,iterations=10, momentum=0.9):\n",
    "    '''\n",
    "    X = Matrice de données avec colonne de biais\n",
    "    y = Vecteur des valeurs à prédire\n",
    "    beta = Vecteur de beta avec : np.random.randn(j,1)\n",
    "    learning_rate  = taux d'apprentissage pour fixer la vitesse de convergence\n",
    "    iterations = nombre d'iterations\n",
    "    rho = \n",
    "    \n",
    "    Retourne les coefficients beta estimés, un tableau de la loss\n",
    "    à chaque itération.\n",
    "    '''\n",
    "    \n",
    "    n = len(y)\n",
    "    cost_history = np.zeros(iterations)\n",
    "    velocite = 0\n",
    "    \n",
    "    for it in range(iterations):\n",
    "        \n",
    "        # Choix de l'observation\n",
    "        rand_ind = np.random.randint(0,n)\n",
    "        X_i = X[rand_ind,:].reshape(1,X.shape[1])\n",
    "        y_i = y[rand_ind].reshape(1,1)\n",
    "\n",
    "        # Calcul de la prédiction de l'observation\n",
    "        prediction = np.dot(X_i,beta)\n",
    "        \n",
    "        gradient = X_i.T.dot((prediction - y_i))\n",
    "        \n",
    "        # Mise à jour par un momentum\n",
    "        velocite = momentum * velocite - learning_rate * gradient\n",
    "        beta = beta + velocite  \n",
    "        \n",
    "        cost_history[it] = loss(X, y, beta)\n",
    "        \n",
    "    return beta, cost_history"
   ]
  },
  {
   "cell_type": "markdown",
   "metadata": {},
   "source": [
    "On initialise différent dégrés de **momentum** : "
   ]
  },
  {
   "cell_type": "code",
   "execution_count": 53,
   "metadata": {},
   "outputs": [],
   "source": [
    "mom_beta = []\n",
    "mom_loss = []\n",
    "rho = []\n",
    "\n",
    "for i in np.arange(0,1,0.4):\n",
    "    a,z = sgd_momentum(X,y,beta_test, learning_rate=0.01, \n",
    "                   iterations=1000,momentum=i)\n",
    "    \n",
    "    rho.append(i)\n",
    "    mom_beta.append(a)\n",
    "    mom_loss.append(z)"
   ]
  },
  {
   "cell_type": "code",
   "execution_count": 54,
   "metadata": {
    "scrolled": true
   },
   "outputs": [
    {
     "data": {
      "image/png": "[encoded data removed]",
      "text/plain": [
       "<Figure size 432x288 with 1 Axes>"
      ]
     },
     "metadata": {
      "needs_background": "light"
     },
     "output_type": "display_data"
    }
   ],
   "source": [
    "for i in mom_loss:\n",
    "    plt.plot(range(len(i)), i, label='$\\rho = i$')\n",
    "\n",
    "plt.legend(np.round(rho,3));"
   ]
  },
  {
   "cell_type": "code",
   "execution_count": 55,
   "metadata": {},
   "outputs": [
    {
     "name": "stdout",
     "output_type": "stream",
     "text": [
      "Rho = 0.0 : [42.76977546 -3.68460418]\n",
      "Rho = 0.4 : [46.18578772  0.62157055]\n",
      "Rho = 0.8 : [37.32391256  0.85052833]\n"
     ]
    }
   ],
   "source": [
    "for i,j in zip(mom_beta, rho) : \n",
    "    print('Rho =',np.round(j,3),':',i.flatten())"
   ]
  },
  {
   "cell_type": "code",
   "execution_count": 56,
   "metadata": {},
   "outputs": [
    {
     "data": {
      "text/plain": [
       "array([[40.7282697 ],\n",
       "       [-3.27314989]])"
      ]
     },
     "execution_count": 56,
     "metadata": {},
     "output_type": "execute_result"
    }
   ],
   "source": [
    "beta_mco"
   ]
  },
  {
   "cell_type": "markdown",
   "metadata": {},
   "source": [
    "**AdaGrad** : cet algorithme d'optimisation de la Descente de Gradient permet de mettre à jours le learning rate selon la valeur du gradient calculé à chaque itération. Il possède un paramètre **epsilon** très petit (généralement 0.0001) qui permet d'éviter la division par 0 à la fin des itérations."
   ]
  },
  {
   "cell_type": "markdown",
   "metadata": {},
   "source": [
    "Pour calculer le nouveau learning rate à chaque itération : $$\\frac{\\eta}{\\sqrt{(g^2) + \\epsilon}}g$$\n"
   ]
  },
  {
   "cell_type": "markdown",
   "metadata": {},
   "source": [
    "Par cette méthode, les mises-à-jour **trop importantes** des paramètres sont **atténuées** tandis que les **petites modifications** sont faites avec un taux **d'apprentissage plus grand**. Par conséquent, la taille des pas se fait sur une plus longue période."
   ]
  },
  {
   "cell_type": "code",
   "execution_count": 257,
   "metadata": {},
   "outputs": [],
   "source": [
    "def Adagrad(X,y,beta,learning_rate=0.01,n_iter=10):\n",
    "    '''\n",
    "    X = Matrice de données avec colonne de biais\n",
    "    y = Vecteur des valeurs à prédire\n",
    "    beta = Vecteur de beta avec : np.random.randn(j,1)\n",
    "    learning_rate  = taux d'apprentissage pour fixer la vitesse de convergence\n",
    "    iterations = nombre d'iterations\n",
    "    \n",
    "    Retourne les coefficients beta estimés, un tableau de la loss\n",
    "    à chaque itération.\n",
    "    '''\n",
    "    \n",
    "    n = len(y)\n",
    "    cost_history = np.zeros(n_iter)\n",
    "    grad_square = 0\n",
    "    \n",
    "    for it in range(n_iter):\n",
    "        \n",
    "        # Choix de l'observation aléatoire\n",
    "        rand_ind = np.random.randint(0,n)\n",
    "        X_i = X[rand_ind,:].reshape(1,X.shape[1])\n",
    "        y_i = y[rand_ind].reshape(1,1)\n",
    "\n",
    "         # Calcul de la prédiction de l'observation\n",
    "        prediction = np.dot(X_i,beta)\n",
    "        gradient = X_i.T.dot((prediction - y_i))\n",
    "        \n",
    "        # Mise à jour des paramètres\n",
    "        grad_square += gradient * gradient\n",
    "        beta = beta - (learning_rate / (np.sqrt(grad_square) + 1e-9)) * gradient\n",
    "        \n",
    "        cost_history[it] = loss(X, y, beta)\n",
    "        \n",
    "    return beta, cost_history"
   ]
  },
  {
   "cell_type": "code",
   "execution_count": 266,
   "metadata": {},
   "outputs": [],
   "source": [
    "paramADA, lossADA = Adagrad(X,y, beta_init, learning_rate=0.001, n_iter=10000)"
   ]
  },
  {
   "cell_type": "code",
   "execution_count": 267,
   "metadata": {
    "scrolled": true
   },
   "outputs": [
    {
     "data": {
      "image/png": "[encoded data removed]",
      "text/plain": [
       "<Figure size 432x288 with 1 Axes>"
      ]
     },
     "metadata": {
      "needs_background": "light"
     },
     "output_type": "display_data"
    }
   ],
   "source": [
    "#plt.plot(perteDG, label=\"Descente de Gradient Stochastique\")\n",
    "plt.plot(lossADA, label=\"AdaGrad\")\n",
    "plt.legend();"
   ]
  },
  {
   "cell_type": "code",
   "execution_count": 268,
   "metadata": {},
   "outputs": [
    {
     "data": {
      "text/plain": [
       "array([[ 9.1032927],\n",
       "       [15.9203123]])"
      ]
     },
     "execution_count": 268,
     "metadata": {},
     "output_type": "execute_result"
    }
   ],
   "source": [
    "paramADA"
   ]
  },
  {
   "cell_type": "markdown",
   "metadata": {},
   "source": [
    "**Adam** :"
   ]
  }
 ],
 "metadata": {
  "kernelspec": {
   "display_name": "Python 3",
   "language": "python",
   "name": "python3"
  },
  "language_info": {
   "codemirror_mode": {
    "name": "ipython",
    "version": 3
   },
   "file_extension": ".py",
   "mimetype": "text/x-python",
   "name": "python",
   "nbconvert_exporter": "python",
   "pygments_lexer": "ipython3",
   "version": "3.7.4"
  }
 },
 "nbformat": 4,
 "nbformat_minor": 2
}
